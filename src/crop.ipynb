{
 "cells": [
  {
   "cell_type": "markdown",
   "metadata": {},
   "source": [
    "# 이미지 크롭하기"
   ]
  },
  {
   "cell_type": "markdown",
   "metadata": {},
   "source": [
    "### 우선, 이미지와 라벨링 가져오기 !"
   ]
  },
  {
   "cell_type": "code",
   "execution_count": 16,
   "metadata": {},
   "outputs": [
    {
     "name": "stdout",
     "output_type": "stream",
     "text": [
      "67 67\n"
     ]
    }
   ],
   "source": [
    "image_path = '/home/addinedu/project/deep-learning_project/data/person_data/*.jpg'\n",
    "label_path = '/home/addinedu/project/deep-learning_project/data/person_data/*.txt'\n",
    "\n",
    "print(len(image_path), len(label_path))"
   ]
  },
  {
   "cell_type": "markdown",
   "metadata": {},
   "source": [
    "-> 왜이리 개수가 적은가 했더니.. len은 문자열의 길이를 반환한다고 한다.\\\n",
    "파일을 찾으려면 ***'glob'!***"
   ]
  },
  {
   "cell_type": "code",
   "execution_count": 23,
   "metadata": {},
   "outputs": [],
   "source": [
    "import glob\n",
    "import os\n",
    "\n",
    "# 이미지가 저장된 디렉토리 경로\n",
    "data_dir = '/home/addinedu/project/deep-learning_project/data/person_data'\n",
    "\n",
    "# .jpg 파일만 찾기\n",
    "image_path = os.path.join(data_dir, '*.jpg')\n",
    "label_path = os.path.join(data_dir, '*.txt')\n",
    "\n",
    "jpg_files = glob.glob(image_path)\n",
    "txt_files = glob.glob(label_path)"
   ]
  },
  {
   "cell_type": "code",
   "execution_count": 24,
   "metadata": {},
   "outputs": [
    {
     "name": "stdout",
     "output_type": "stream",
     "text": [
      "112 112\n"
     ]
    }
   ],
   "source": [
    "print(len(jpg_files), len(txt_files))"
   ]
  },
  {
   "cell_type": "code",
   "execution_count": 34,
   "metadata": {},
   "outputs": [],
   "source": [
    "# 순서 맞추기\n",
    "jpg_files.sort()\n",
    "txt_files.sort()"
   ]
  },
  {
   "cell_type": "code",
   "execution_count": 53,
   "metadata": {},
   "outputs": [
    {
     "name": "stdout",
     "output_type": "stream",
     "text": [
      "161.0 161.0 427.0 479.0\n",
      "163.0 163.0 426.0 480.0\n",
      "161.0 166.0 425.0 480.0\n",
      "160.0 180.0 423.0 480.0\n",
      "159.0 159.0 423.0 479.0\n",
      "163.0 161.0 427.0 478.0\n",
      "160.0 159.0 424.0 480.0\n",
      "119.0 173.0 380.0 478.0\n",
      "133.0 194.0 361.0 480.0\n",
      "122.0 189.0 347.0 479.0\n",
      "120.0 187.0 347.0 479.0\n",
      "93.0 191.0 332.0 480.0\n",
      "93.0 185.0 329.0 480.0\n",
      "100.0 187.0 337.0 480.0\n",
      "206.0 192.0 399.0 480.0\n",
      "223.0 205.0 400.0 480.0\n",
      "152.0 198.0 376.0 480.0\n",
      "131.0 207.0 365.0 480.0\n",
      "188.0 239.0 354.0 479.0\n",
      "193.0 255.0 323.0 480.0\n",
      "199.0 255.0 319.0 480.0\n",
      "189.0 255.0 313.0 480.0\n",
      "204.0 250.0 316.0 480.0\n",
      "211.0 233.0 344.0 478.0\n",
      "173.0 222.0 355.0 479.0\n",
      "153.0 216.0 363.0 480.0\n",
      "131.0 144.0 442.0 479.0\n",
      "42.0 69.0 462.0 475.0\n",
      "66.0 76.0 469.0 480.0\n",
      "537.0 363.0 640.0 478.0\n",
      "59.0 71.0 470.0 478.0\n",
      "68.0 73.0 468.0 479.0\n",
      "69.0 77.0 471.0 476.0\n",
      "69.0 76.0 468.0 480.0\n",
      "42.0 74.0 461.0 480.0\n",
      "46.0 71.0 453.0 472.0\n",
      "84.0 80.0 400.0 478.0\n",
      "47.0 78.0 452.0 480.0\n",
      "135.0 86.0 483.0 480.0\n",
      "140.0 107.0 431.0 476.0\n",
      "95.0 87.0 477.0 476.0\n",
      "82.0 76.0 473.0 476.0\n",
      "84.0 76.0 478.0 475.0\n",
      "80.0 74.0 488.0 480.0\n",
      "102.0 77.0 485.0 480.0\n",
      "89.0 81.0 470.0 480.0\n",
      "66.0 79.0 486.0 480.0\n",
      "93.0 92.0 503.0 476.0\n",
      "135.0 106.0 499.0 480.0\n",
      "45.0 123.0 389.0 477.0\n",
      "30.0 123.0 375.0 477.0\n",
      "33.0 116.0 386.0 477.0\n",
      "97.0 67.0 469.0 478.0\n",
      "93.0 69.0 469.0 479.0\n",
      "92.0 85.0 469.0 478.0\n",
      "89.0 84.0 469.0 477.0\n",
      "88.0 83.0 463.0 476.0\n",
      "88.0 75.0 465.0 479.0\n",
      "90.0 66.0 464.0 480.0\n",
      "91.0 70.0 465.0 479.0\n",
      "100.0 65.0 468.0 480.0\n",
      "97.0 62.0 470.0 478.0\n",
      "95.0 62.0 469.0 479.0\n",
      "97.0 62.0 468.0 479.0\n",
      "91.0 63.0 470.0 480.0\n",
      "90.0 64.0 467.0 479.0\n",
      "91.0 66.0 469.0 479.0\n",
      "93.0 66.0 467.0 477.0\n",
      "91.0 65.0 468.0 477.0\n",
      "91.0 66.0 463.0 477.0\n",
      "33.0 65.0 346.0 475.0\n",
      "71.0 91.0 314.0 475.0\n",
      "26.0 78.0 323.0 477.0\n",
      "116.0 101.0 323.0 479.0\n",
      "88.0 106.0 444.0 480.0\n",
      "53.0 103.0 409.0 474.0\n",
      "78.0 104.0 408.0 477.0\n",
      "141.0 101.0 361.0 475.0\n",
      "190.0 118.0 382.0 474.0\n",
      "170.0 114.0 415.0 478.0\n",
      "122.0 122.0 423.0 477.0\n",
      "164.0 144.0 434.0 479.0\n",
      "136.0 177.0 352.0 480.0\n",
      "180.0 191.0 371.0 479.0\n",
      "180.0 199.0 336.0 480.0\n",
      "207.0 198.0 330.0 480.0\n",
      "153.0 216.0 303.0 480.0\n",
      "110.0 230.0 249.0 480.0\n",
      "111.0 237.0 228.0 478.0\n",
      "180.0 241.0 255.0 479.0\n",
      "216.0 242.0 317.0 478.0\n",
      "226.0 217.0 371.0 479.0\n",
      "174.0 192.0 370.0 480.0\n",
      "141.0 146.0 407.0 478.0\n",
      "139.0 118.0 446.0 477.0\n",
      "131.0 112.0 446.0 478.0\n",
      "122.0 115.0 476.0 480.0\n",
      "121.0 117.0 477.0 476.0\n",
      "125.0 117.0 428.0 476.0\n",
      "129.0 118.0 439.0 478.0\n",
      "35.0 17.0 495.0 477.0\n",
      "37.0 23.0 574.0 477.0\n",
      "56.0 25.0 606.0 477.0\n",
      "56.0 15.0 492.0 480.0\n",
      "55.0 17.0 482.0 480.0\n",
      "46.0 19.0 472.0 474.0\n",
      "31.0 21.0 500.0 478.0\n",
      "22.0 12.0 452.0 480.0\n",
      "100.0 57.0 471.0 478.0\n",
      "49.0 59.0 430.0 476.0\n",
      "51.0 58.0 424.0 479.0\n",
      "53.0 61.0 429.0 479.0\n"
     ]
    }
   ],
   "source": [
    "import cv2\n",
    "import glob\n",
    "import os\n",
    "\n",
    "# 이미지가 저장된 디렉토리 경로\n",
    "data_dir = '/home/addinedu/project/deep-learning_project/data/person_data'\n",
    "\n",
    "image_path = os.path.join(data_dir, '*.jpg')\n",
    "label_path = os.path.join(data_dir, '*.txt')\n",
    "\n",
    "jpg_files = glob.glob(image_path)\n",
    "txt_files = glob.glob(label_path)\n",
    "\n",
    "# 순서 맞추기\n",
    "jpg_files.sort()\n",
    "txt_files.sort()\n",
    "\n",
    "for jpg_file in jpg_files:\n",
    "    # 이미지 파일 로드\n",
    "    image = cv2.imread(jpg_file)\n",
    "    if image is None:\n",
    "        print(f\"Failed to load image {jpg_file}\")\n",
    "        continue\n",
    "    \n",
    "    # 이미지 너비와 높이 가져오기\n",
    "    image_height, image_width = image.shape[:2]\n",
    "    \n",
    "    # .jpg 파일 경로에서 기본 파일명 추출 (확장자 제외)\n",
    "    base_filename = os.path.splitext(os.path.basename(jpg_file))[0]\n",
    "    \n",
    "    label = base_filename.split('.')[0]\n",
    "    \n",
    "    # 동일한 기본 파일명을 가진 .txt 파일 경로 생성\n",
    "    txt_file_path = os.path.join(data_dir, f\"{base_filename}.txt\")\n",
    "\n",
    "    # 해당 .txt 파일이 존재하는지 확인하고 내용 처리\n",
    "    if os.path.exists(txt_file_path):\n",
    "        with open(txt_file_path, 'r') as file:\n",
    "            lines = file.readlines()\n",
    "            \n",
    "            label = lines[0].split(' ')\n",
    "\n",
    "            cx = float(label[1])\n",
    "            cy = float(label[2])\n",
    "            cw = float(label[3])\n",
    "            ch = float(label[4])\n",
    "            print(cx, cy, cw, ch)\n",
    "                    \n",
    "            # # 실제 픽셀 좌표로 변환 (이미지 크기 기반)\n",
    "            # x = int((cx - cw / 2) * image_width)\n",
    "            # y = int((cy - ch / 2) * image_height)\n",
    "            # w = int(cw * image_width)\n",
    "            # h = int(ch * image_height)\n",
    "            # print(x, y, w, h)\n",
    "\n",
    "            cx = int(cx)\n",
    "            cy = int(cy)\n",
    "            cw = int(cw)\n",
    "            ch = int(ch)\n",
    "            \n",
    "            # 바운딩 박스에 따라 이미지 크롭\n",
    "            cropped_image = image[cy:ch, cx:cw]\n",
    "            \n",
    "            crop_dir = os.path.join(data_dir, \"crop\")\n",
    "            \n",
    "            os.makedirs(crop_dir, exist_ok=True) #하위 디렉토리가 없으면 생성\n",
    "                \n",
    "            crop_file_path = os.path.join(crop_dir, {label} \"{}_crop.jpg\".format(base_filename))\n",
    "\n",
    "            # 크롭된 이미지 저장 또는 처리\n",
    "            cv2.imwrite(crop_file_path, cropped_image)\n",
    "               \n",
    "    else:\n",
    "        print(f\"No corresponding txt file found for {jpg_file}\")\n"
   ]
  }
 ],
 "metadata": {
  "kernelspec": {
   "display_name": "yolo3",
   "language": "python",
   "name": "python3"
  },
  "language_info": {
   "codemirror_mode": {
    "name": "ipython",
    "version": 3
   },
   "file_extension": ".py",
   "mimetype": "text/x-python",
   "name": "python",
   "nbconvert_exporter": "python",
   "pygments_lexer": "ipython3",
   "version": "3.10.12"
  }
 },
 "nbformat": 4,
 "nbformat_minor": 2
}
